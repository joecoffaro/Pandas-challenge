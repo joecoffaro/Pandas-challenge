{
 "cells": [
  {
   "cell_type": "code",
   "execution_count": 24,
   "id": "5002b6f6-8648-4881-9e71-06db7cd68e08",
   "metadata": {},
   "outputs": [
    {
     "data": {
      "text/html": [
       "<div>\n",
       "<style scoped>\n",
       "    .dataframe tbody tr th:only-of-type {\n",
       "        vertical-align: middle;\n",
       "    }\n",
       "\n",
       "    .dataframe tbody tr th {\n",
       "        vertical-align: top;\n",
       "    }\n",
       "\n",
       "    .dataframe thead th {\n",
       "        text-align: right;\n",
       "    }\n",
       "</style>\n",
       "<table border=\"1\" class=\"dataframe\">\n",
       "  <thead>\n",
       "    <tr style=\"text-align: right;\">\n",
       "      <th></th>\n",
       "      <th>Student ID</th>\n",
       "      <th>student_name</th>\n",
       "      <th>gender</th>\n",
       "      <th>grade</th>\n",
       "      <th>school_name</th>\n",
       "      <th>reading_score</th>\n",
       "      <th>math_score</th>\n",
       "      <th>School ID</th>\n",
       "      <th>type</th>\n",
       "      <th>size</th>\n",
       "      <th>budget</th>\n",
       "    </tr>\n",
       "  </thead>\n",
       "  <tbody>\n",
       "    <tr>\n",
       "      <th>0</th>\n",
       "      <td>0</td>\n",
       "      <td>Paul Bradley</td>\n",
       "      <td>M</td>\n",
       "      <td>9th</td>\n",
       "      <td>Huang High School</td>\n",
       "      <td>66</td>\n",
       "      <td>79</td>\n",
       "      <td>0</td>\n",
       "      <td>District</td>\n",
       "      <td>2917</td>\n",
       "      <td>1910635</td>\n",
       "    </tr>\n",
       "    <tr>\n",
       "      <th>1</th>\n",
       "      <td>1</td>\n",
       "      <td>Victor Smith</td>\n",
       "      <td>M</td>\n",
       "      <td>12th</td>\n",
       "      <td>Huang High School</td>\n",
       "      <td>94</td>\n",
       "      <td>61</td>\n",
       "      <td>0</td>\n",
       "      <td>District</td>\n",
       "      <td>2917</td>\n",
       "      <td>1910635</td>\n",
       "    </tr>\n",
       "    <tr>\n",
       "      <th>2</th>\n",
       "      <td>2</td>\n",
       "      <td>Kevin Rodriguez</td>\n",
       "      <td>M</td>\n",
       "      <td>12th</td>\n",
       "      <td>Huang High School</td>\n",
       "      <td>90</td>\n",
       "      <td>60</td>\n",
       "      <td>0</td>\n",
       "      <td>District</td>\n",
       "      <td>2917</td>\n",
       "      <td>1910635</td>\n",
       "    </tr>\n",
       "    <tr>\n",
       "      <th>3</th>\n",
       "      <td>3</td>\n",
       "      <td>Dr. Richard Scott</td>\n",
       "      <td>M</td>\n",
       "      <td>12th</td>\n",
       "      <td>Huang High School</td>\n",
       "      <td>67</td>\n",
       "      <td>58</td>\n",
       "      <td>0</td>\n",
       "      <td>District</td>\n",
       "      <td>2917</td>\n",
       "      <td>1910635</td>\n",
       "    </tr>\n",
       "    <tr>\n",
       "      <th>4</th>\n",
       "      <td>4</td>\n",
       "      <td>Bonnie Ray</td>\n",
       "      <td>F</td>\n",
       "      <td>9th</td>\n",
       "      <td>Huang High School</td>\n",
       "      <td>97</td>\n",
       "      <td>84</td>\n",
       "      <td>0</td>\n",
       "      <td>District</td>\n",
       "      <td>2917</td>\n",
       "      <td>1910635</td>\n",
       "    </tr>\n",
       "  </tbody>\n",
       "</table>\n",
       "</div>"
      ],
      "text/plain": [
       "   Student ID       student_name gender grade        school_name  \\\n",
       "0           0       Paul Bradley      M   9th  Huang High School   \n",
       "1           1       Victor Smith      M  12th  Huang High School   \n",
       "2           2    Kevin Rodriguez      M  12th  Huang High School   \n",
       "3           3  Dr. Richard Scott      M  12th  Huang High School   \n",
       "4           4         Bonnie Ray      F   9th  Huang High School   \n",
       "\n",
       "   reading_score  math_score  School ID      type  size   budget  \n",
       "0             66          79          0  District  2917  1910635  \n",
       "1             94          61          0  District  2917  1910635  \n",
       "2             90          60          0  District  2917  1910635  \n",
       "3             67          58          0  District  2917  1910635  \n",
       "4             97          84          0  District  2917  1910635  "
      ]
     },
     "execution_count": 24,
     "metadata": {},
     "output_type": "execute_result"
    }
   ],
   "source": [
    "# Dependencies and Setup\n",
    "import pandas as pd\n",
    "from pathlib import Path\n",
    "\n",
    "# File to Load \n",
    "schools_final_csv = Path(\"Resources/schools_complete.csv\")\n",
    "students_final_csv = Path(\"Resources/students_complete.csv\")\n",
    "\n",
    "# Read School and Student Data File and store into Pandas DataFrames\n",
    "schools_data_df = pd.read_csv(schools_final_csv)\n",
    "students_data_df = pd.read_csv(students_final_csv)\n",
    "\n",
    "# Combine the data into a single dataset.\n",
    "schools_students_df = pd.merge(students_data_df, schools_data_df, how=\"left\", on=[\"school_name\", \"school_name\"])\n",
    "schools_students_df.head()\n"
   ]
  },
  {
   "cell_type": "code",
   "execution_count": 33,
   "id": "66fe84d6-993f-4438-b13d-1fa496fafde0",
   "metadata": {},
   "outputs": [],
   "source": [
    "### district Summary\n"
   ]
  },
  {
   "cell_type": "code",
   "execution_count": 38,
   "id": "39db0716-7af5-4892-9ce0-0afb074cbadd",
   "metadata": {},
   "outputs": [
    {
     "name": "stdout",
     "output_type": "stream",
     "text": [
      "Number of Schools : 15\n"
     ]
    }
   ],
   "source": [
    "# total number of  schools\n",
    "total_schools = len(pd.unique(schools_students_df[\"school_name\"]))\n",
    "print(f'Number of Schools : {total_schools}')"
   ]
  },
  {
   "cell_type": "code",
   "execution_count": 39,
   "id": "b45acbd4-2c32-4dc6-b3d6-f000f6433f4f",
   "metadata": {},
   "outputs": [
    {
     "name": "stdout",
     "output_type": "stream",
     "text": [
      "total Students : 39,170\n"
     ]
    }
   ],
   "source": [
    "# total number of students\n",
    "total_students = len(schools_students_df[\"Student ID\"].unique())\n",
    "print(f'total Students : {total_students:5,.0f}')"
   ]
  },
  {
   "cell_type": "code",
   "execution_count": 40,
   "id": "23bd45a5-ecb5-4efe-b687-672577b680f5",
   "metadata": {},
   "outputs": [
    {
     "name": "stdout",
     "output_type": "stream",
     "text": [
      "Total Budget : $24,649,428\n"
     ]
    }
   ],
   "source": [
    "# Calculate total budget\n",
    "total_budget = schools_data_df[\"budget\"].sum()\n",
    "print(f'Total Budget : ${total_budget:10,.0f}')"
   ]
  },
  {
   "cell_type": "code",
   "execution_count": 35,
   "id": "b204df03-3edf-4145-a6d8-8987565dacd8",
   "metadata": {},
   "outputs": [
    {
     "data": {
      "text/plain": [
       "78.98537145774827"
      ]
     },
     "execution_count": 35,
     "metadata": {},
     "output_type": "execute_result"
    }
   ],
   "source": [
    "# Calculate the average (mean) math score\n",
    "avg_math=students_data_df['math_score'].mean()\n",
    "avg_math"
   ]
  },
  {
   "cell_type": "code",
   "execution_count": 20,
   "id": "755d621c-918a-43c1-a63c-4991c78bdedd",
   "metadata": {},
   "outputs": [
    {
     "data": {
      "text/plain": [
       "81.88"
      ]
     },
     "execution_count": 20,
     "metadata": {},
     "output_type": "execute_result"
    }
   ],
   "source": [
    "# average (mean) reading score\n",
    "average_reading_score = student_data[\"reading_score\"].mean()\n",
    "average_reading_score = round(average_reading_score, 2)\n",
    "\n",
    "average_reading_score"
   ]
  },
  {
   "cell_type": "code",
   "execution_count": null,
   "id": "3b6c3dfa-f901-4995-8b5a-816da0e88ffd",
   "metadata": {},
   "outputs": [],
   "source": [
    "# Use the following to calculate the percentage of students who passed math (math scores greather than or equal to 70)"
   ]
  },
  {
   "cell_type": "code",
   "execution_count": null,
   "id": "89916233-6543-402f-8302-3e7257253e89",
   "metadata": {},
   "outputs": [],
   "source": [
    "# Calculate % passing reading (the percentage of students who scored >= 70)"
   ]
  },
  {
   "cell_type": "code",
   "execution_count": null,
   "id": "7b942f9c-7d1c-44a3-be4a-7b84dac2c6a1",
   "metadata": {},
   "outputs": [],
   "source": [
    "# Calculate the percentage of students who passed reading (hint: look at how the math percentage was calculated)\n"
   ]
  },
  {
   "cell_type": "code",
   "execution_count": null,
   "id": "a7a4ada6-4ea5-4758-818b-e2ae516c30f1",
   "metadata": {},
   "outputs": [],
   "source": [
    "# Use the following to calculate the percentage of students that passed math and reading\n"
   ]
  },
  {
   "cell_type": "code",
   "execution_count": null,
   "id": "85f5235d-7160-446a-87d1-96aabeef6af1",
   "metadata": {},
   "outputs": [],
   "source": [
    "# Create a high-level snapshot of the district's key metrics in a DataFrame\n"
   ]
  },
  {
   "cell_type": "code",
   "execution_count": null,
   "id": "131b053d-945c-4b18-9c2b-b3a2e9ca09e2",
   "metadata": {},
   "outputs": [],
   "source": [
    "# Use the code provided to select the type per school from school_data\n"
   ]
  },
  {
   "cell_type": "code",
   "execution_count": null,
   "id": "e1eeebcb-46be-443a-b26e-852cc8dd1884",
   "metadata": {},
   "outputs": [],
   "source": [
    "# Calculate the total student count per school "
   ]
  },
  {
   "cell_type": "code",
   "execution_count": null,
   "id": "0dd1b477-fa54-4d2d-b52b-9539687405a6",
   "metadata": {},
   "outputs": [],
   "source": [
    "# Calculate the total school budget "
   ]
  },
  {
   "cell_type": "code",
   "execution_count": null,
   "id": "8b1c6440-78c4-4f22-882b-3c412dc610ed",
   "metadata": {},
   "outputs": [],
   "source": [
    "# Calculate the average test scores per school from school_data_complete"
   ]
  },
  {
   "cell_type": "code",
   "execution_count": null,
   "id": "e3a48e6f-08b4-4c42-847f-e7a99b5cefcc",
   "metadata": {},
   "outputs": [],
   "source": [
    "# Calculate the number of students per school with math scores of 70 or higher from school_data_complete\n"
   ]
  },
  {
   "cell_type": "code",
   "execution_count": null,
   "id": "fd349a82-f954-4035-9925-c270e7402d09",
   "metadata": {},
   "outputs": [],
   "source": [
    "# Calculate the number of students per school with reading scores of 70 or higher from school_data_complete"
   ]
  },
  {
   "cell_type": "code",
   "execution_count": null,
   "id": "32fdcef9-1bcc-4bfe-87af-3399b3c4be1d",
   "metadata": {},
   "outputs": [],
   "source": [
    "# Use the provided code to calculate the number of students per school that passed both math and reading with scores of 70 or higher\n"
   ]
  },
  {
   "cell_type": "code",
   "execution_count": null,
   "id": "bf3a3cd0-8eb6-4229-8079-ccfcf2387861",
   "metadata": {},
   "outputs": [],
   "source": [
    "# Use the provided code to calculate the passing rates\n"
   ]
  },
  {
   "cell_type": "code",
   "execution_count": null,
   "id": "8e3ab2d6-41ab-4d19-98b9-223d81739e60",
   "metadata": {},
   "outputs": [],
   "source": [
    "# Create a DataFrame called `per_school_summary` with columns for the calculations above.\n"
   ]
  },
  {
   "cell_type": "code",
   "execution_count": null,
   "id": "db094dd2-6f3a-41a7-8a19-634f4894a1c7",
   "metadata": {},
   "outputs": [],
   "source": [
    "# Sort the schools by `% Overall Passing` in descending order and display the top 5 rows.\n"
   ]
  },
  {
   "cell_type": "code",
   "execution_count": null,
   "id": "b6101a67-cade-4933-9d26-2a2b4cf21a6c",
   "metadata": {},
   "outputs": [],
   "source": [
    "# Sort the schools by `% Overall Passing` in ascending order and display the top 5 rows.\n"
   ]
  },
  {
   "cell_type": "code",
   "execution_count": null,
   "id": "7dc38023-fa01-4427-ad5c-d4bcf67bfe4a",
   "metadata": {},
   "outputs": [],
   "source": [
    "# Use the code provided to separate the data by grade\n",
    "\n",
    "\n",
    "# Group by `school_name` and take the mean of the `math_score` column for each.\n",
    "\n",
    "\n",
    "# Combine each of the scores above into single DataFrame called `math_scores_by_grade`\n",
    "\n",
    "\n",
    "\n",
    "# Minor data wrangling\n",
    "\n",
    "\n",
    "# Display the DataFrame\n"
   ]
  },
  {
   "cell_type": "code",
   "execution_count": null,
   "id": "13db632e-3a5d-4209-8a0b-a74a3e67a78a",
   "metadata": {},
   "outputs": [],
   "source": [
    "# Use the code provided to separate the data by grade\n",
    "\n",
    "\n",
    "\n",
    "# Group by `school_name` and take the mean of the the `reading_score` column for each.\n",
    "\n",
    "\n",
    "\n",
    "# Combine each of the scores above into single DataFrame called `reading_scores_by_grade`\n",
    "\n",
    "\n",
    "# Minor data wrangling\n",
    "\n",
    "\n",
    "# Display the DataFrame"
   ]
  },
  {
   "cell_type": "code",
   "execution_count": null,
   "id": "2e30e7b1-2432-4644-a248-509a1a0fb55e",
   "metadata": {},
   "outputs": [],
   "source": [
    "# Establish the bins\n",
    "\n",
    "\n"
   ]
  },
  {
   "cell_type": "code",
   "execution_count": null,
   "id": "29adf7e1-1af8-4fce-bd7c-62ef4f35d2e4",
   "metadata": {},
   "outputs": [],
   "source": [
    "# Create a copy of the school summary since it has the \"Per Student Budget\"\n"
   ]
  },
  {
   "cell_type": "code",
   "execution_count": null,
   "id": "ec55b035-0313-4482-88c8-7935b5b4ea27",
   "metadata": {},
   "outputs": [],
   "source": [
    "# Use `pd.cut` to categorize spending based on the bins.\n"
   ]
  },
  {
   "cell_type": "code",
   "execution_count": null,
   "id": "7731a060-7c63-4613-bc5e-cc96bedbfe7c",
   "metadata": {},
   "outputs": [],
   "source": [
    "#  Calculate averages for the desired columns.\n"
   ]
  },
  {
   "cell_type": "code",
   "execution_count": null,
   "id": "38aa89d8-13ad-4d95-8e2d-1e42329e76e6",
   "metadata": {},
   "outputs": [],
   "source": [
    "# Assemble into DataFrame\n",
    "\n",
    "\n",
    "# Display results"
   ]
  },
  {
   "cell_type": "code",
   "execution_count": null,
   "id": "cde2ef4a-e5d4-4288-9e4c-949730f8e845",
   "metadata": {},
   "outputs": [],
   "source": [
    "# Establish the bins."
   ]
  },
  {
   "cell_type": "code",
   "execution_count": null,
   "id": "8b12fee5-d119-4a3e-b26d-96fb40270023",
   "metadata": {},
   "outputs": [],
   "source": [
    "# Categorize the spending based on the bins\n",
    "# Use `pd.cut` on the \"Total Students\" column of the `per_school_summary` DataFrame."
   ]
  },
  {
   "cell_type": "code",
   "execution_count": null,
   "id": "4bc9d9b6-c17d-4354-a679-a5501b3f1e06",
   "metadata": {},
   "outputs": [],
   "source": [
    "# Calculate averages for the desired columns.\n"
   ]
  },
  {
   "cell_type": "code",
   "execution_count": null,
   "id": "d2aeafd0-e47f-4f7b-b46d-0b6bc7e50871",
   "metadata": {},
   "outputs": [],
   "source": [
    "# Create a DataFrame called `size_summary` that breaks down school performance based on school size (small, medium, or large).\n",
    "# Use the scores above to create a new DataFrame called `size_summary`\n",
    "\n",
    "\n",
    "# Display results"
   ]
  },
  {
   "cell_type": "code",
   "execution_count": null,
   "id": "80b59a0d-8f16-46fd-9344-6d6a5825127d",
   "metadata": {},
   "outputs": [],
   "source": [
    "# Group the per_school_summary DataFrame by \"School Type\" and average the results.\n"
   ]
  },
  {
   "cell_type": "code",
   "execution_count": null,
   "id": "4627301d-e3cb-4f8c-bbc6-4d43a70a7017",
   "metadata": {},
   "outputs": [],
   "source": [
    "# Assemble the new data by type into a DataFrame called `type_summary`\n",
    "# Display results"
   ]
  },
  {
   "cell_type": "code",
   "execution_count": null,
   "id": "1694cb0e-3b26-477a-8b4b-69130054e3bd",
   "metadata": {},
   "outputs": [],
   "source": []
  }
 ],
 "metadata": {
  "kernelspec": {
   "display_name": "Python 3 (ipykernel)",
   "language": "python",
   "name": "python3"
  },
  "language_info": {
   "codemirror_mode": {
    "name": "ipython",
    "version": 3
   },
   "file_extension": ".py",
   "mimetype": "text/x-python",
   "name": "python",
   "nbconvert_exporter": "python",
   "pygments_lexer": "ipython3",
   "version": "3.10.14"
  }
 },
 "nbformat": 4,
 "nbformat_minor": 5
}
